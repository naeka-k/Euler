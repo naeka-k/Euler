{
  "nbformat": 4,
  "nbformat_minor": 0,
  "metadata": {
    "colab": {
      "name": "Problem46.ipynb",
      "version": "0.3.2",
      "provenance": [],
      "collapsed_sections": [],
      "include_colab_link": true
    },
    "kernelspec": {
      "name": "python3",
      "display_name": "Python 3"
    }
  },
  "cells": [
    {
      "cell_type": "markdown",
      "metadata": {
        "id": "view-in-github",
        "colab_type": "text"
      },
      "source": [
        "<a href=\"https://colab.research.google.com/github/naeka-k/euler/blob/master/Problem46.ipynb\" target=\"_parent\"><img src=\"https://colab.research.google.com/assets/colab-badge.svg\" alt=\"Open In Colab\"/></a>"
      ]
    },
    {
      "cell_type": "markdown",
      "metadata": {
        "id": "PeKkjzFDoGc6",
        "colab_type": "text"
      },
      "source": [
        "**Problem 46「もうひとつのゴールドバッハの予想」**\n",
        "\n",
        "Christian Goldbachは全ての奇合成数は平方数の2倍と素数の和で表せると予想した.\n",
        "<ul>\n",
        "  <li>9 = 7 + 2×1<sup>2</sup></li>\n",
        "  <li>15 = 7 + 2×2<sup>2</sup></li>\n",
        "  <li>21 = 3 + 2×3<sup>2</sup></li>\n",
        "  <li>25 = 7 + 2×3<sup>2</sup></li>\n",
        "  <li>27 = 19 + 2×2<sup>2</sup></li>\n",
        "  <li>33 = 31 + 2×1<sup>2</sup></li>\n",
        "</ul>\n",
        "後に, この予想は誤りであることが分かった.\n",
        "\n",
        "平方数の2倍と素数の和で表せない最小の奇合成数はいくつか?"
      ]
    },
    {
      "cell_type": "code",
      "metadata": {
        "id": "hXg69cjTaq2b",
        "colab_type": "code",
        "outputId": "7a4fb153-262f-43e0-dda0-2de77dda22f1",
        "colab": {
          "base_uri": "https://localhost:8080/",
          "height": 35
        }
      },
      "source": [
        "import numpy as np\n",
        "import math\n",
        "\n",
        "# forループの最大値が雑だけどひとまずあとでにする。\n",
        "\n",
        "def calc_min_odd_composit(odd_compo):\n",
        "\tfor j in range(1, 10000000) :\n",
        "\t\t# 平方数の２倍を計算する。\n",
        "\t\tdouble_num = (int) (2 * (math.pow(j, 2)))\n",
        "\t\tif (odd_compo < double_num) :\n",
        "\t\t\t# 平方数２倍が調査対象の数値より大きくなったらもう計算できないのでこれが予想外の最小数値。\n",
        "\t\t\treturn odd_compo\n",
        "    # そうでない場合は続きを\n",
        "\t\tsub = odd_compo - double_num\n",
        "\t\tfor k in range(1, 10000000 ,2) :\n",
        "\t\t\tif (is_prime(k) == False) :\n",
        "\t\t\t\t# 素数でない数は飛ばす。\n",
        "\t\t\t\tcontinue\n",
        "\t\t\tprime = k\n",
        "\t\t\tif (sub == prime) :\n",
        "\t\t\t\t# 平方数マイナス後の数値が素数である場合は予想通りになってしまうので次の調査数へ。\n",
        "\t\t\t\treturn None\n",
        "\t\t\telif (sub < prime) :\n",
        "\t\t\t\t# 引く素数が平方数マイナス後の数値より大きい場合は計算できないので別の平方数を試す。\n",
        "\t\t\t\tbreak\n",
        "\n",
        "# 引数の整数が奇合成数だったらtrue, 奇合成数でなければFalse\n",
        "def is_odd_composit(num) :\n",
        "\tif (num == 0) :\n",
        "\t\t# 0は奇合成数ではない。\n",
        "\t\treturn False\n",
        "\t\n",
        "\tif (num == 1) :\n",
        "\t\t# 1は奇合成数ではない。\n",
        "\t\treturn False\n",
        "\t\n",
        "\tif (num % 2 == 0) :\n",
        "\t\t# 偶数は合成数ではない。\n",
        "\t\treturn False\n",
        "\n",
        "\tif (is_prime(num)) :\n",
        "\t\t# 素数なので合成数ではない。\n",
        "\t\treturn False\n",
        "\n",
        "\t# ここまで来たら、合成数。\n",
        "\treturn True\n",
        "\n",
        "# 引数の数値が素数かどうかを返す。\n",
        "def is_prime(num):\n",
        "    if (num == 2):\n",
        "      # 2は素数。\n",
        "      return True\n",
        "    if (num % 2 == 0) :\n",
        "      # 偶数は素数ではない。\n",
        "      return False\n",
        "    for div in range(3, math.floor(np.sqrt(num)) + 1 ,2) :\n",
        "      # 割る数を3からスタートして2ずつ増やして、引数を割る。\n",
        "      # 引数の正平方根までの数で割り続ける。\n",
        "      # どこかの数で割り切れたら素数ではない。\n",
        "      if (num % div == 0):\n",
        "        return False\n",
        "    #ここまで来たら、素数。\n",
        "    return True\n",
        "\n",
        "# 検出したい数値\n",
        "for i in range(9, 10000000, 2) :\n",
        "\tif (is_odd_composit(i) == False) :\n",
        "\t\t# 合成数ではない場合はループ先頭に戻る。\n",
        "\t\tcontinue\n",
        "\ttarget = calc_min_odd_composit(i)\n",
        "\tif(target != None):\n",
        "\t\tprint(\"予想に当てはまらない最小数：\" , target)\n",
        "\t\tbreak\n"
      ],
      "execution_count": 16,
      "outputs": [
        {
          "output_type": "stream",
          "text": [
            "予想に当てはまらない最小数： 5777\n"
          ],
          "name": "stdout"
        }
      ]
    },
    {
      "cell_type": "markdown",
      "metadata": {
        "id": "I0g8GjM0oFEJ",
        "colab_type": "text"
      },
      "source": [
        ""
      ]
    }
  ]
}
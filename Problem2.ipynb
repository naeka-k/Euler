{
  "nbformat": 4,
  "nbformat_minor": 0,
  "metadata": {
    "colab": {
      "name": "Problem2.ipynb",
      "version": "0.3.2",
      "provenance": [],
      "collapsed_sections": [],
      "include_colab_link": true
    },
    "kernelspec": {
      "name": "python3",
      "display_name": "Python 3"
    }
  },
  "cells": [
    {
      "cell_type": "markdown",
      "metadata": {
        "id": "view-in-github",
        "colab_type": "text"
      },
      "source": [
        "<a href=\"https://colab.research.google.com/github/naeka-k/euler/blob/master/Problem2.ipynb\" target=\"_parent\"><img src=\"https://colab.research.google.com/assets/colab-badge.svg\" alt=\"Open In Colab\"/></a>"
      ]
    },
    {
      "cell_type": "markdown",
      "metadata": {
        "id": "PeKkjzFDoGc6",
        "colab_type": "text"
      },
      "source": [
        "**Problem 2 「偶数のフィボナッチ数」**\n",
        "\n",
        "フィボナッチ数列の項は前の2つの項の和である. 最初の2項を 1, 2 とすれば, 最初の10項は以下の通りである.\n",
        "\n",
        ">1, 2, 3, 5, 8, 13, 21, 34, 55, 89, ...\n",
        "\n",
        "数列の項の値が400万以下の, 偶数値の項の総和を求めよ.\n",
        "\n",
        "Note:この問題は最近更新されました. お使いのパラメータが正しいかどうか確認してください."
      ]
    },
    {
      "cell_type": "code",
      "metadata": {
        "id": "iCQ5gWLHjKgJ",
        "colab_type": "code",
        "outputId": "4762613c-e1f5-4d95-ea99-8a2a3f7ed103",
        "colab": {
          "base_uri": "https://localhost:8080/",
          "height": 35
        }
      },
      "source": [
        "# 合計用\n",
        "num =0\n",
        "# 各種変数\n",
        "now = 1\n",
        "next = 2\n",
        "temp = 0\n",
        "while True:\n",
        "  if(now > 4000000):\n",
        "    break\n",
        "  if(now % 2  == 0):\n",
        "    num += now\n",
        "  temp=now\n",
        "  now=next\n",
        "  next=temp+now\n",
        "  \n",
        "print(\"num:\" ,num)"
      ],
      "execution_count": 17,
      "outputs": [
        {
          "output_type": "stream",
          "text": [
            "num: 4613732\n"
          ],
          "name": "stdout"
        }
      ]
    },
    {
      "cell_type": "markdown",
      "metadata": {
        "id": "I0g8GjM0oFEJ",
        "colab_type": "text"
      },
      "source": [
        ""
      ]
    }
  ]
}
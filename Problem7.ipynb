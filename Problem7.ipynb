{
  "nbformat": 4,
  "nbformat_minor": 0,
  "metadata": {
    "colab": {
      "name": "Problem7.ipynb",
      "version": "0.3.2",
      "provenance": [],
      "collapsed_sections": [],
      "include_colab_link": true
    },
    "kernelspec": {
      "name": "python3",
      "display_name": "Python 3"
    }
  },
  "cells": [
    {
      "cell_type": "markdown",
      "metadata": {
        "id": "view-in-github",
        "colab_type": "text"
      },
      "source": [
        "<a href=\"https://colab.research.google.com/github/naeka-k/euler/blob/master/Problem7.ipynb\" target=\"_parent\"><img src=\"https://colab.research.google.com/assets/colab-badge.svg\" alt=\"Open In Colab\"/></a>"
      ]
    },
    {
      "cell_type": "markdown",
      "metadata": {
        "id": "PeKkjzFDoGc6",
        "colab_type": "text"
      },
      "source": [
        "**Problem 7 「10001番目の素数」**\n",
        "\n",
        "素数を小さい方から6つ並べると 2, 3, 5, 7, 11, 13 であり, 6番目の素数は 13 である.\n",
        "\n",
        "10 001 番目の素数を求めよ."
      ]
    },
    {
      "cell_type": "code",
      "metadata": {
        "id": "hXg69cjTaq2b",
        "colab_type": "code",
        "outputId": "76286a50-1344-4e28-c926-4642d981b291",
        "colab": {
          "base_uri": "https://localhost:8080/",
          "height": 35
        }
      },
      "source": [
        "import numpy as np\n",
        "import math\n",
        "\n",
        "\n",
        "# 引数の値の次に大きい素数を返す。\n",
        "def get_prime(before):\n",
        "  fact = before\n",
        "  while(True):\n",
        "    fact += 2\n",
        "    if(is_prime(fact)):\n",
        "      break\n",
        "  return fact\n",
        "\n",
        "# 引数の数値が素数かどうかを返す。\n",
        "def is_prime(num):\n",
        "    if (num == 2):\n",
        "      # 2は素数。\n",
        "      return True\n",
        "    if (num % 2 == 0) :\n",
        "      # 偶数は素数ではない。\n",
        "      return False\n",
        "    for div in range(3, math.floor(np.sqrt(num)) + 1 ,2) :\n",
        "      # 割る数を3からスタートして2ずつ増やして、引数を割る。\n",
        "      # 引数の正平方根までの数で割り続ける。\n",
        "      # どこかの数で割り切れたら素数ではない。\n",
        "      if (num % div == 0):\n",
        "        return False\n",
        "    #ここまで来たら、素数。\n",
        "    return True\n",
        "\n",
        "# 問題文で「6番目が13」とあるので、7番目以降から数える。\n",
        "prime = 13\n",
        "for num in range(7, 10002):\n",
        "  prime = get_prime(prime)\n",
        "\n",
        "print(prime) \n"
      ],
      "execution_count": 5,
      "outputs": [
        {
          "output_type": "stream",
          "text": [
            "104743\n"
          ],
          "name": "stdout"
        }
      ]
    },
    {
      "cell_type": "markdown",
      "metadata": {
        "id": "I0g8GjM0oFEJ",
        "colab_type": "text"
      },
      "source": [
        ""
      ]
    }
  ]
}
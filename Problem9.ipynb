{
  "nbformat": 4,
  "nbformat_minor": 0,
  "metadata": {
    "colab": {
      "name": "Problem9.ipynb",
      "version": "0.3.2",
      "provenance": [],
      "collapsed_sections": [],
      "include_colab_link": true
    },
    "kernelspec": {
      "name": "python3",
      "display_name": "Python 3"
    }
  },
  "cells": [
    {
      "cell_type": "markdown",
      "metadata": {
        "id": "view-in-github",
        "colab_type": "text"
      },
      "source": [
        "<a href=\"https://colab.research.google.com/github/naeka-k/euler/blob/master/Problem9.ipynb\" target=\"_parent\"><img src=\"https://colab.research.google.com/assets/colab-badge.svg\" alt=\"Open In Colab\"/></a>"
      ]
    },
    {
      "cell_type": "markdown",
      "metadata": {
        "id": "PeKkjzFDoGc6",
        "colab_type": "text"
      },
      "source": [
        "**Problem 9 「特別なピタゴラス数」**\n",
        "\n",
        "ピタゴラス数(ピタゴラスの定理を満たす自然数)とは a < b < c で以下の式を満たす数の組である.\n",
        "$$a^2 + b^2 = c^2$$\n",
        "\n",
        "例えば, $$3^2 + 4^2 = 9 + 16 = 25 = 5^2$$である.\n",
        "\n",
        "$$a + b + c = 1000$$となるピタゴラスの三つ組が一つだけ存在する.\n",
        "これらの積 abc を計算しなさい."
      ]
    },
    {
      "cell_type": "code",
      "metadata": {
        "id": "hXg69cjTaq2b",
        "colab_type": "code",
        "outputId": "1465754d-919d-462b-e3ae-eb4d2f030fb4",
        "colab": {
          "base_uri": "https://localhost:8080/",
          "height": 52
        }
      },
      "source": [
        "import numpy as np\n",
        "import math\n",
        "import sys\n",
        "\n",
        "# とりあえず1000以下の数値の二乗数から成るピタゴラス数を求める\n",
        "for c in range(1000, 0, -1):\n",
        "  c_sq = c ** 2\n",
        "  for b in range(c, 0, -1):\n",
        "    b_sq = b ** 2\n",
        "    for a in range(b, 0, -1):\n",
        "      a_sq = a ** 2\n",
        "      if(b_sq + a_sq < c_sq):\n",
        "        # aの二乗がピタゴラス数に成り得ないほど小さくなったら次のbを試す。\n",
        "        break\n",
        "      if(b_sq + a_sq == c_sq):\n",
        "        # ピタゴラス数だったら平方して足して1000だったら終了とする。\n",
        "        if(a + b + c == 1000):\n",
        "          print(a, b, c)\n",
        "          print(a * b * c)\n",
        "          exit\n"
      ],
      "execution_count": 13,
      "outputs": [
        {
          "output_type": "stream",
          "text": [
            "200 375 425\n",
            "31875000\n"
          ],
          "name": "stdout"
        }
      ]
    },
    {
      "cell_type": "markdown",
      "metadata": {
        "id": "I0g8GjM0oFEJ",
        "colab_type": "text"
      },
      "source": [
        ""
      ]
    }
  ]
}
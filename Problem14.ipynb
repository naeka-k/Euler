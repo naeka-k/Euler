{
  "nbformat": 4,
  "nbformat_minor": 0,
  "metadata": {
    "colab": {
      "name": "Problem14.ipynb",
      "version": "0.3.2",
      "provenance": [],
      "collapsed_sections": [],
      "include_colab_link": true
    },
    "kernelspec": {
      "name": "python3",
      "display_name": "Python 3"
    }
  },
  "cells": [
    {
      "cell_type": "markdown",
      "metadata": {
        "id": "view-in-github",
        "colab_type": "text"
      },
      "source": [
        "<a href=\"https://colab.research.google.com/github/naeka-k/euler/blob/master/Problem14.ipynb\" target=\"_parent\"><img src=\"https://colab.research.google.com/assets/colab-badge.svg\" alt=\"Open In Colab\"/></a>"
      ]
    },
    {
      "cell_type": "markdown",
      "metadata": {
        "id": "PeKkjzFDoGc6",
        "colab_type": "text"
      },
      "source": [
        "**Problem 14 「最長のコラッツ数列」**\n",
        "\n",
        "正の整数に以下の式で繰り返し生成する数列を定義する.\n",
        "\n",
        "    n → n/2 (n が偶数)\n",
        "\n",
        "    n → 3n + 1 (n が奇数)\n",
        "\n",
        "13からはじめるとこの数列は以下のようになる.\n",
        "13 → 40 → 20 → 10 → 5 → 16 → 8 → 4 → 2 → 1\n",
        "\n",
        "13から1まで10個の項になる. この数列はどのような数字からはじめても最終的には 1 になると考えられているが, まだそのことは証明されていない(コラッツ問題)\n",
        "\n",
        "さて, 100万未満の数字の中でどの数字からはじめれば最長の数列を生成するか.\n",
        "\n",
        "注意: 数列の途中で100万以上になってもよい"
      ]
    },
    {
      "cell_type": "code",
      "metadata": {
        "id": "hXg69cjTaq2b",
        "colab_type": "code",
        "outputId": "783e9fe4-8c07-4e0e-9e54-b8ee523c4ae6",
        "colab": {
          "base_uri": "https://localhost:8080/",
          "height": 35
        }
      },
      "source": [
        "import numpy as np\n",
        "import math\n",
        "\n",
        "# 再帰する関数\n",
        "def sub_collatz(num, count):\n",
        "  count += 1\n",
        "  if(num % 2 == 0):\n",
        "    # 偶数の場合：n/2\n",
        "    num = num / 2\n",
        "  else:\n",
        "    # 奇数の場合：3n+1 \n",
        "    num = 3 * num + 1\n",
        "  if(num == 1):\n",
        "    # 1に収束したらカウントを返す。\n",
        "    return count\n",
        "  # 再帰でもう一度。\n",
        "  return sub_collatz(num, count)\n",
        "\n",
        "# 呼出と最大値の管理\n",
        "def collatz(num):\n",
        "  max_count = 0\n",
        "  max_num = 0\n",
        "  for num in range(1, 1000000):\n",
        "    # 再帰関数を呼び出してカウントを取得\n",
        "    count = sub_collatz(num, 0)\n",
        "    if(count > max_count):\n",
        "      # 最大値チェック\n",
        "      max_count = count\n",
        "      max_num = num\n",
        "  # ループ終了した時点で最大値\n",
        "  print(max_num, max_count)\n",
        "\n",
        "# 起動\n",
        "collatz(1)\n"
      ],
      "execution_count": 32,
      "outputs": [
        {
          "output_type": "stream",
          "text": [
            "837799 524\n"
          ],
          "name": "stdout"
        }
      ]
    },
    {
      "cell_type": "markdown",
      "metadata": {
        "id": "I0g8GjM0oFEJ",
        "colab_type": "text"
      },
      "source": [
        ""
      ]
    }
  ]
}
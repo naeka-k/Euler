{
  "nbformat": 4,
  "nbformat_minor": 0,
  "metadata": {
    "colab": {
      "name": "Problem4.ipynb",
      "version": "0.3.2",
      "provenance": [],
      "collapsed_sections": [],
      "include_colab_link": true
    },
    "kernelspec": {
      "name": "python3",
      "display_name": "Python 3"
    }
  },
  "cells": [
    {
      "cell_type": "markdown",
      "metadata": {
        "id": "view-in-github",
        "colab_type": "text"
      },
      "source": [
        "<a href=\"https://colab.research.google.com/github/naeka-k/euler/blob/master/Problem4.ipynb\" target=\"_parent\"><img src=\"https://colab.research.google.com/assets/colab-badge.svg\" alt=\"Open In Colab\"/></a>"
      ]
    },
    {
      "cell_type": "markdown",
      "metadata": {
        "id": "PeKkjzFDoGc6",
        "colab_type": "text"
      },
      "source": [
        "**Problem 4 「最大の回文積」**\n",
        "\n",
        "左右どちらから読んでも同じ値になる数を回文数という. 2桁の数の積で表される回文数のうち, 最大のものは 9009 = 91 × 99 である.\n",
        "\n",
        "では, 3桁の数の積で表される回文数の最大値を求めよ."
      ]
    },
    {
      "cell_type": "code",
      "metadata": {
        "id": "hXg69cjTaq2b",
        "colab_type": "code",
        "colab": {
          "base_uri": "https://localhost:8080/",
          "height": 35
        },
        "outputId": "6de4b1d8-1baa-413e-cbda-c1b2352e88e6"
      },
      "source": [
        "import numpy as np\n",
        "import math\n",
        "\n",
        "\n",
        "# 引数が回文数の場合にTrueを返す関数。\n",
        "def is_palindrome(num):\n",
        "  str_num = str(num)\n",
        "  point = math.ceil(len(str_num) / 2)\n",
        "  # 1～中央の文字まで\n",
        "  str0 = str_num[:point]\n",
        "  # 中央の文字～末尾まで\n",
        "  # 中央の文字はstr0と重複するけど問題はない。\n",
        "  str1 = str_num[point*-1:]\n",
        "\n",
        "  for i in range(0,len(str0)):\n",
        "    if(str0[i] != str1[(i + 1) * -1]):\n",
        "      # 左右の端から文字を比較していく。1文字でも違ったら非回文数扱い。\n",
        "      return False\n",
        "  return True\n",
        "\n",
        "# 100～999の数値を掛け合わせて、回文数かどうかをチェックする。\n",
        "# 求める最大値(最小値が100*100を設定)\n",
        "max = 10000\n",
        "for num0 in range(100, 999) :\n",
        "  for num1 in range(100, 999) :\n",
        "    target = num0 * num1\n",
        "    if(is_palindrome(target)):\n",
        "      if(max < target):\n",
        "        # 回文数で、現在保持されている最大値よりも大きい場合には新しい値に置き換える。\n",
        "        max = target\n",
        "print(max)\n"
      ],
      "execution_count": 4,
      "outputs": [
        {
          "output_type": "stream",
          "text": [
            "906609\n"
          ],
          "name": "stdout"
        }
      ]
    },
    {
      "cell_type": "markdown",
      "metadata": {
        "id": "I0g8GjM0oFEJ",
        "colab_type": "text"
      },
      "source": [
        ""
      ]
    }
  ]
}
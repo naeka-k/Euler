{
  "nbformat": 4,
  "nbformat_minor": 0,
  "metadata": {
    "colab": {
      "name": "Problem5.ipynb",
      "version": "0.3.2",
      "provenance": [],
      "collapsed_sections": [],
      "include_colab_link": true
    },
    "kernelspec": {
      "name": "python3",
      "display_name": "Python 3"
    }
  },
  "cells": [
    {
      "cell_type": "markdown",
      "metadata": {
        "id": "view-in-github",
        "colab_type": "text"
      },
      "source": [
        "<a href=\"https://colab.research.google.com/github/naeka-k/euler/blob/master/Problem5.ipynb\" target=\"_parent\"><img src=\"https://colab.research.google.com/assets/colab-badge.svg\" alt=\"Open In Colab\"/></a>"
      ]
    },
    {
      "cell_type": "markdown",
      "metadata": {
        "id": "PeKkjzFDoGc6",
        "colab_type": "text"
      },
      "source": [
        "**Problem 5 「最大の回文積」**\n",
        "\n",
        "2520 は 1 から 10 の数字の全ての整数で割り切れる数字であり, そのような数字の中では最小の値である.\n",
        "\n",
        "では, 1 から 20 までの整数全てで割り切れる数字の中で最小の正の数はいくらになるか."
      ]
    },
    {
      "cell_type": "code",
      "metadata": {
        "id": "hXg69cjTaq2b",
        "colab_type": "code",
        "outputId": "20a7a1f7-0aac-4770-b5ee-689b94716a8d",
        "colab": {
          "base_uri": "https://localhost:8080/",
          "height": 35
        }
      },
      "source": [
        "import numpy as np\n",
        "import math\n",
        "\n",
        "# 二次元配列listsの配列の最大値を取得する。\n",
        "def get_exponent(lists, index):\n",
        "  max = 0\n",
        "  for list in lists:\n",
        "    if(max < list[index]):\n",
        "      max = list[index]\n",
        "  return max\n",
        "\n",
        "# 最小公倍数はその数を素因数分解して、各素因数の出現回数(べき乗指数)の一番大きい数を掛け合わせると求められるらしい。 \n",
        "\n",
        "# 20までの素因数を列挙\n",
        "facts = (2,3,5,7,11,13,17,19)\n",
        "\n",
        "# 素因数分解の結果格納用\n",
        "lists = np.zeros((18, len(facts)),dtype=np.int64)\n",
        "\n",
        "# 20までの数字を素因数分解する\n",
        "for num in range(2, 20):\n",
        "  dived = num\n",
        "  list = lists[num - 2]\n",
        "  for i in range(0, len(facts)):\n",
        "    fact = facts[i]\n",
        "    times = 0\n",
        "    if(dived < fact):\n",
        "      # 割られる数が素因数より小さかったら計算はしない。\n",
        "      break\n",
        "    while(True):\n",
        "      if(dived % fact == 0):\n",
        "        # ある素因数で割り切れる回数を求める\n",
        "        times += 1\n",
        "        dived = dived / fact\n",
        "      else:\n",
        "        # 割り切れなくなったら次\n",
        "        list[i] =times\n",
        "        break\n",
        "\n",
        "# 素因数分解の結果から各出現回数の値を足していく。\n",
        "target = 1\n",
        "\n",
        "for i in range(0, len(facts)):\n",
        "  fact = facts[i]\n",
        "  # 素因数分解の結果から最大のべき乗指数を求める。\n",
        "  exponent = get_exponent(lists, i)\n",
        "  # 素因数^べき乗指数を掛け合わせる\n",
        "  target *= fact ** exponent\n",
        "\n",
        "# これで最小公倍数が求められる\n",
        "print(target)"
      ],
      "execution_count": 34,
      "outputs": [
        {
          "output_type": "stream",
          "text": [
            "232792560\n"
          ],
          "name": "stdout"
        }
      ]
    },
    {
      "cell_type": "markdown",
      "metadata": {
        "id": "I0g8GjM0oFEJ",
        "colab_type": "text"
      },
      "source": [
        ""
      ]
    }
  ]
}
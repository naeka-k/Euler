{
  "nbformat": 4,
  "nbformat_minor": 0,
  "metadata": {
    "colab": {
      "name": "Problem10.ipynb",
      "version": "0.3.2",
      "provenance": [],
      "collapsed_sections": [],
      "include_colab_link": true
    },
    "kernelspec": {
      "name": "python3",
      "display_name": "Python 3"
    }
  },
  "cells": [
    {
      "cell_type": "markdown",
      "metadata": {
        "id": "view-in-github",
        "colab_type": "text"
      },
      "source": [
        "<a href=\"https://colab.research.google.com/github/naeka-k/euler/blob/master/Problem10.ipynb\" target=\"_parent\"><img src=\"https://colab.research.google.com/assets/colab-badge.svg\" alt=\"Open In Colab\"/></a>"
      ]
    },
    {
      "cell_type": "markdown",
      "metadata": {
        "id": "PeKkjzFDoGc6",
        "colab_type": "text"
      },
      "source": [
        "**Problem 10 「素数の和」**\n",
        "\n",
        "10以下の素数の和は 2 + 3 + 5 + 7 = 17 である.\n",
        "\n",
        "200万以下の全ての素数の和を求めよ."
      ]
    },
    {
      "cell_type": "code",
      "metadata": {
        "id": "hXg69cjTaq2b",
        "colab_type": "code",
        "outputId": "b899a7b1-62f4-41e1-ee8b-2c597a0b06ce",
        "colab": {
          "base_uri": "https://localhost:8080/",
          "height": 35
        }
      },
      "source": [
        "import numpy as np\n",
        "import math\n",
        "\n",
        "\n",
        "# 引数の値の次に大きい素数を返す。\n",
        "def get_prime(before):\n",
        "  fact = before\n",
        "  while(True):\n",
        "    fact += 2\n",
        "    if(is_prime(fact)):\n",
        "      break\n",
        "  return fact\n",
        "\n",
        "# 引数の数値が素数かどうかを返す。\n",
        "def is_prime(num):\n",
        "    if (num == 2):\n",
        "      # 2は素数。\n",
        "      return True\n",
        "    if (num % 2 == 0) :\n",
        "      # 偶数は素数ではない。\n",
        "      return False\n",
        "    for div in range(3, math.floor(np.sqrt(num)) + 1 ,2) :\n",
        "      # 割る数を3からスタートして2ずつ増やして、引数を割る。\n",
        "      # 引数の正平方根までの数で割り続ける。\n",
        "      # どこかの数で割り切れたら素数ではない。\n",
        "      if (num % div == 0):\n",
        "        return False\n",
        "    #ここまで来たら、素数。\n",
        "    return True\n",
        "\n",
        "# 問題文で「7まで足すと17」とあるので、7以降から数える。\n",
        "prime = 7\n",
        "prime_sum = 17\n",
        "while(True):\n",
        "  prime = get_prime(prime)\n",
        "  if(prime > 2000000):\n",
        "    break\n",
        "  prime_sum += prime\n",
        "print(prime_sum) \n"
      ],
      "execution_count": 8,
      "outputs": [
        {
          "output_type": "stream",
          "text": [
            "142913828922\n"
          ],
          "name": "stdout"
        }
      ]
    },
    {
      "cell_type": "markdown",
      "metadata": {
        "id": "I0g8GjM0oFEJ",
        "colab_type": "text"
      },
      "source": [
        ""
      ]
    }
  ]
}
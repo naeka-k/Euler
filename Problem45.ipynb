{
  "nbformat": 4,
  "nbformat_minor": 0,
  "metadata": {
    "colab": {
      "name": "Problem45.ipynb",
      "version": "0.3.2",
      "provenance": [],
      "collapsed_sections": [],
      "include_colab_link": true
    },
    "kernelspec": {
      "name": "python3",
      "display_name": "Python 3"
    }
  },
  "cells": [
    {
      "cell_type": "markdown",
      "metadata": {
        "id": "view-in-github",
        "colab_type": "text"
      },
      "source": [
        "<a href=\"https://colab.research.google.com/github/naeka-k/euler/blob/master/Problem45.ipynb\" target=\"_parent\"><img src=\"https://colab.research.google.com/assets/colab-badge.svg\" alt=\"Open In Colab\"/></a>"
      ]
    },
    {
      "cell_type": "markdown",
      "metadata": {
        "id": "PeKkjzFDoGc6",
        "colab_type": "text"
      },
      "source": [
        "**Problem 45「三角数, 五角数, 六角数」**\n",
        "\n",
        "三角数, 五角数, 六角数は以下のように生成される.\n",
        "\n",
        " <table>\n",
        "<tr>\n",
        "\t<td>三角数</td><td>Tn=n(n+1)/2</td><td>1, 3, 6, 10, 15, ...</td>\n",
        "</tr>\n",
        "<tr>\n",
        "<td>五角数</td><td>Pn=n(3n-1)/2</td><td>1, 5, 12, 22, 35, ...</td>\n",
        "</tr>\n",
        "<tr>\n",
        "\t<td>六角数</td><td>Hn=n(2n-1)</td><td>1, 6, 15, 28, 45, ...</td>\n",
        "</tr>\n",
        "</table>\n",
        "\n",
        "\n",
        "T<sub>285</sub> = P<sub>165</sub> = H<sub>143</sub> = 40755であることが分かる.\n",
        "\n",
        "次の三角数かつ五角数かつ六角数な数を求めよ."
      ]
    },
    {
      "cell_type": "code",
      "metadata": {
        "id": "hXg69cjTaq2b",
        "colab_type": "code",
        "outputId": "27fae433-028e-4ee5-c68b-5350d02e883b",
        "colab": {
          "base_uri": "https://localhost:8080/",
          "height": 35
        }
      },
      "source": [
        "import numpy as np\n",
        "import math\n",
        "\n",
        "# 引数で六角数を生成して返す。\n",
        "def get_hexagonal(num) :\n",
        "\treturn num * (2 * num -1)\n",
        "\n",
        "# 引数の整数が五角数だったらtrue, そうでなければfalse\n",
        "def is_pentagonal(num) :\n",
        "  param = (1 + np.sqrt(1 + 24 * num)) / 6\n",
        "  # 求める際の引数になる数値が整数なら五角数と判断。\n",
        "  return is_integer(param)\n",
        "\n",
        "# 引数の整数が三角数だったらtrue, そうでなければfalse\n",
        "def is_triangle(num) :\n",
        "\tparam = (1 + np.sqrt(1 + 8 * num)) / 2\n",
        "\t# 求める際の引数になる数値が整数なら五角数と判断。\n",
        "\treturn is_integer(param)\n",
        "\n",
        "\n",
        "# 引数が整数(小数第一位以下に数値がない)の場合にtrue、そうでなければfalse\n",
        "def is_integer(num) :\n",
        "\tif(num == math.floor(num)) :\n",
        "\t\treturn True\n",
        "\treturn False\n",
        "\n",
        "# 検出したい数値\n",
        "target = 0;\n",
        "num = 144\n",
        "while(True):\n",
        "  # １番出現しにくい六角数を作成し、三角数か五角数かを確認する。\n",
        "  target = get_hexagonal(num);\n",
        "  if(is_pentagonal(target) and is_triangle(target)) :\n",
        "    print(\"三角数かつ五角数かつ六角数；\" , target)\n",
        "    break\n",
        "  num += 1\n"
      ],
      "execution_count": 17,
      "outputs": [
        {
          "output_type": "stream",
          "text": [
            "三角数かつ五角数かつ六角数； 1533776805\n"
          ],
          "name": "stdout"
        }
      ]
    },
    {
      "cell_type": "markdown",
      "metadata": {
        "id": "I0g8GjM0oFEJ",
        "colab_type": "text"
      },
      "source": [
        ""
      ]
    }
  ]
}
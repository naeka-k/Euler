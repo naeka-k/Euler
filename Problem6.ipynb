{
  "nbformat": 4,
  "nbformat_minor": 0,
  "metadata": {
    "colab": {
      "name": "Problem6.ipynb",
      "version": "0.3.2",
      "provenance": [],
      "collapsed_sections": [],
      "include_colab_link": true
    },
    "kernelspec": {
      "name": "python3",
      "display_name": "Python 3"
    }
  },
  "cells": [
    {
      "cell_type": "markdown",
      "metadata": {
        "id": "view-in-github",
        "colab_type": "text"
      },
      "source": [
        "<a href=\"https://colab.research.google.com/github/naeka-k/euler/blob/master/Problem6.ipynb\" target=\"_parent\"><img src=\"https://colab.research.google.com/assets/colab-badge.svg\" alt=\"Open In Colab\"/></a>"
      ]
    },
    {
      "cell_type": "markdown",
      "metadata": {
        "id": "PeKkjzFDoGc6",
        "colab_type": "text"
      },
      "source": [
        "**Problem 6 「二乗和の差」**\n",
        "\n",
        "最初の10個の自然数について, その二乗の和は,\n",
        "$$1^2 + 2^2 + ... + 10^2 = 385$$\n",
        "\n",
        "最初の10個の自然数について, その和の二乗は,\n",
        "$$(1 + 2 + ... + 10)^2 = 3025$$\n",
        "\n",
        "これらの数の差は $$3025 - 385 = 2640$$ となる.\n",
        "\n",
        "同様にして, 最初の100個の自然数について二乗の和と和の二乗の差を求めよ."
      ]
    },
    {
      "cell_type": "code",
      "metadata": {
        "id": "hXg69cjTaq2b",
        "colab_type": "code",
        "outputId": "c3d25ca3-9254-49d0-f037-9aada12a7a49",
        "colab": {
          "base_uri": "https://localhost:8080/",
          "height": 35
        }
      },
      "source": [
        "import numpy as np\n",
        "import math\n",
        "\n",
        "# 100までの数字を二乗して足す\n",
        "# 1~10までは問題文にあるのでそのまま使う。\n",
        "square_sum = 385\n",
        "for num in range(11, 101):\n",
        "  square_sum += num ** 2\n",
        "#print(square_sum)\n",
        "\n",
        "# 100までの数字を足して二乗する\n",
        "# こちらは0から数えなおす。\n",
        "sum_square = 0\n",
        "for num in range(1, 101):\n",
        "  sum_square += num\n",
        "sum_square = sum_square ** 2\n",
        "#print(sum_square)\n",
        "# 差を求めて出力\n",
        "print(sum_square - square_sum)"
      ],
      "execution_count": 7,
      "outputs": [
        {
          "output_type": "stream",
          "text": [
            "25164150\n"
          ],
          "name": "stdout"
        }
      ]
    },
    {
      "cell_type": "markdown",
      "metadata": {
        "id": "I0g8GjM0oFEJ",
        "colab_type": "text"
      },
      "source": [
        ""
      ]
    }
  ]
}
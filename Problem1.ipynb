{
  "nbformat": 4,
  "nbformat_minor": 0,
  "metadata": {
    "colab": {
      "name": "Problem1.ipynb",
      "version": "0.3.2",
      "provenance": [],
      "collapsed_sections": []
    },
    "kernelspec": {
      "name": "python3",
      "display_name": "Python 3"
    }
  },
  "cells": [
    {
      "cell_type": "markdown",
      "metadata": {
        "id": "PeKkjzFDoGc6",
        "colab_type": "text"
      },
      "source": [
        "**Problem 1 「3と5の倍数」**\n",
        "\n",
        "10未満の自然数のうち, 3 もしくは 5 の倍数になっているものは 3, 5, 6, 9 の4つがあり, これらの合計は 23 になる.\n",
        "同じようにして, 1000 未満の 3 か 5 の倍数になっている数字の合計を求めよ."
      ]
    },
    {
      "cell_type": "code",
      "metadata": {
        "id": "iCQ5gWLHjKgJ",
        "colab_type": "code",
        "outputId": "a5d2bd11-2052-4270-e76c-dbc855fd0874",
        "colab": {
          "base_uri": "https://localhost:8080/",
          "height": 35
        }
      },
      "source": [
        "\n",
        "num =0\n",
        "\n",
        "for i in range(1 ,1000):\n",
        "  if(i % 3 == 0 or i % 5==0) :\n",
        "    num += i\n",
        "  \n",
        "print(num)"
      ],
      "execution_count": 0,
      "outputs": [
        {
          "output_type": "stream",
          "text": [
            "233168\n"
          ],
          "name": "stdout"
        }
      ]
    },
    {
      "cell_type": "markdown",
      "metadata": {
        "id": "I0g8GjM0oFEJ",
        "colab_type": "text"
      },
      "source": [
        ""
      ]
    }
  ]
}
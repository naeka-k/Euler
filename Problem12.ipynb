{
  "nbformat": 4,
  "nbformat_minor": 0,
  "metadata": {
    "colab": {
      "name": "Problem12.ipynb",
      "version": "0.3.2",
      "provenance": [],
      "collapsed_sections": [],
      "include_colab_link": true
    },
    "kernelspec": {
      "name": "python3",
      "display_name": "Python 3"
    }
  },
  "cells": [
    {
      "cell_type": "markdown",
      "metadata": {
        "id": "view-in-github",
        "colab_type": "text"
      },
      "source": [
        "<a href=\"https://colab.research.google.com/github/naeka-k/euler/blob/master/Problem12.ipynb\" target=\"_parent\"><img src=\"https://colab.research.google.com/assets/colab-badge.svg\" alt=\"Open In Colab\"/></a>"
      ]
    },
    {
      "cell_type": "markdown",
      "metadata": {
        "id": "PeKkjzFDoGc6",
        "colab_type": "text"
      },
      "source": [
        "**Problem 12 「高度整除三角数」**\n",
        "\n",
        "三角数の数列は自然数の和で表わされ, 7番目の三角数は 1 + 2 + 3 + 4 + 5 + 6 + 7 = 28 である. 三角数の最初の10項は:\n",
        "1, 3, 6, 10, 15, 21, 28, 36, 45, 55, ...\n",
        "\n",
        "となる.\n",
        "\n",
        "最初の7項について, その約数を列挙すると, 以下のとおり.\n",
        "\n",
        "     1: 1\n",
        "     3: 1,3\n",
        "     6: 1,2,3,6\n",
        "    10: 1,2,5,10\n",
        "    15: 1,3,5,15\n",
        "    21: 1,3,7,21\n",
        "    28: 1,2,4,7,14,28\n",
        "\n",
        "これから, 7番目の三角数である28は, 5個より多く約数をもつ最初の三角数であることが分かる.\n",
        "\n",
        "では, 500個より多く約数をもつ最初の三角数はいくつか."
      ]
    },
    {
      "cell_type": "code",
      "metadata": {
        "id": "hXg69cjTaq2b",
        "colab_type": "code",
        "outputId": "76d4bcf9-e23d-46e1-e7eb-b4924fe46006",
        "colab": {
          "base_uri": "https://localhost:8080/",
          "height": 35
        }
      },
      "source": [
        "import numpy as np\n",
        "import math\n",
        "\n",
        "# 昇順に三角数を求めて、約数が500以上になったら処理終了する\n",
        "def divide_triangle():\n",
        "  num = 1\n",
        "  while(True):\n",
        "    num += 1\n",
        "    # 三角数を求める\n",
        "    triangle = math.floor(num * (num + 1) / 2)\n",
        "    sqrt = math.floor(np.sqrt(triangle))\n",
        "    div = 0\n",
        "    cnt = 0\n",
        "    while(True):\n",
        "      div += 1\n",
        "      if(triangle % div == 0):\n",
        "        # 割り切れたら約数組2つぶんカウントアップ\n",
        "        cnt += 2\n",
        "        if(sqrt * sqrt == triangle):\n",
        "          # ただし平方根の時は同じ数値なので1減らす\n",
        "          cnt -= 1\n",
        "        #print(triangle,cnt)\n",
        "        if(cnt >= 500):\n",
        "          # 500超えたのでこれで終わり。\n",
        "          print(triangle)\n",
        "          return\n",
        "      if(div > sqrt):\n",
        "        # 約数は三角数の平方根未満のはずなので、抜ける\n",
        "        break\n",
        "\n",
        "divide_triangle()\n"
      ],
      "execution_count": 4,
      "outputs": [
        {
          "output_type": "stream",
          "text": [
            "76576500\n"
          ],
          "name": "stdout"
        }
      ]
    },
    {
      "cell_type": "markdown",
      "metadata": {
        "id": "I0g8GjM0oFEJ",
        "colab_type": "text"
      },
      "source": [
        ""
      ]
    }
  ]
}